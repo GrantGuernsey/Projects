{
 "cells": [
  {
   "cell_type": "code",
   "execution_count": 1,
   "metadata": {},
   "outputs": [
    {
     "name": "stdout",
     "output_type": "stream",
     "text": [
      "Sources: {5}\n",
      "Sinks: {0}\n"
     ]
    }
   ],
   "source": [
    "def find_sources_and_sinks(adjacency_matrix):\n",
    "    num_nodes = len(adjacency_matrix)\n",
    "    sources = set()\n",
    "    sinks = set()\n",
    "\n",
    "    # Identify sources\n",
    "    for node in range(num_nodes):\n",
    "        if all(adjacency_matrix[node][j] == 0 for j in range(num_nodes)):\n",
    "            sources.add(node)\n",
    "\n",
    "    # Transpose the matrix to find incoming edges and identify sinks\n",
    "    transposed_matrix = list(zip(*adjacency_matrix))\n",
    "    for node in range(num_nodes):\n",
    "        if all(transposed_matrix[node][i] == 0 for i in range(num_nodes)):\n",
    "            sinks.add(node)\n",
    "\n",
    "    return sources, sinks\n",
    "\n",
    "# Example usage:\n",
    "adjacency_matrix = [\n",
    "    [0, 1, 1, 0, 0, 0],\n",
    "    [0, 0, 0, 1, 0, 0],\n",
    "    [0, 0, 0, 1, 1, 0],\n",
    "    [0, 0, 0, 0, 0, 1],\n",
    "    [0, 0, 0, 0, 0, 1],\n",
    "    [0, 0, 0, 0, 0, 0]\n",
    "]\n",
    "\n",
    "sources, sinks = find_sources_and_sinks(adjacency_matrix)\n",
    "print(\"Sources:\", sources)\n",
    "print(\"Sinks:\", sinks)"
   ]
  }
 ],
 "metadata": {
  "kernelspec": {
   "display_name": "Python 3",
   "language": "python",
   "name": "python3"
  },
  "language_info": {
   "codemirror_mode": {
    "name": "ipython",
    "version": 3
   },
   "file_extension": ".py",
   "mimetype": "text/x-python",
   "name": "python",
   "nbconvert_exporter": "python",
   "pygments_lexer": "ipython3",
   "version": "3.11.3"
  },
  "orig_nbformat": 4
 },
 "nbformat": 4,
 "nbformat_minor": 2
}
