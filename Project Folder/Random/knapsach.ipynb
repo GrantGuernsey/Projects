{
 "cells": [
  {
   "cell_type": "code",
   "execution_count": 1,
   "metadata": {},
   "outputs": [
    {
     "name": "stdout",
     "output_type": "stream",
     "text": [
      "Optimal value: 4270.1106107495925\n"
     ]
    }
   ],
   "source": [
    "def fractional_knapsack_multiplicative_value(values, volumes, capacity):\n",
    "    n = len(values)\n",
    "    items = [(values[i], volumes[i], values[i] / volumes[i]) for i in range(n)]\n",
    "    items.sort(key=lambda x: x[2], reverse=True)\n",
    "\n",
    "    curr_volume = 0\n",
    "    total_value = 1\n",
    "\n",
    "    for i in range(n):\n",
    "        v_i, w_i, vfi_per_wi = items[i]\n",
    "        remaining_capacity = capacity - curr_volume\n",
    "\n",
    "        if remaining_capacity >= w_i:\n",
    "            curr_volume += w_i\n",
    "            total_value *= v_i\n",
    "        else:\n",
    "            fi = remaining_capacity / w_i\n",
    "            curr_volume += fi * w_i\n",
    "            total_value *= v_i ** fi\n",
    "            break\n",
    "\n",
    "    return total_value\n",
    "\n",
    "# Example usage:\n",
    "values = [10, 20, 30]\n",
    "volumes = [2, 5, 10]\n",
    "capacity = 16\n",
    "\n",
    "optimal_value = fractional_knapsack_multiplicative_value(values, volumes, capacity)\n",
    "print(\"Optimal value:\", optimal_value)"
   ]
  },
  {
   "cell_type": "code",
   "execution_count": 6,
   "metadata": {},
   "outputs": [
    {
     "name": "stdout",
     "output_type": "stream",
     "text": [
      "Selected Fractions: [1, 0.3333333333333333, 1]\n",
      "Total Value: 135.7208808297453\n"
     ]
    }
   ],
   "source": [
    "import math\n",
    "def fractional_knapsack_multiplicative_value(values, volumes, C):\n",
    "    n = len(values)\n",
    "    vi_prime = [math.log(v) for v in values]\n",
    "\n",
    "    # Calculate vi'/wi ratio and sort the items based on this ratio in non-increasing order\n",
    "    items = sorted(range(n), key=lambda i: vi_prime[i] / volumes[i], reverse=True)\n",
    "\n",
    "    selected_fractions = [0] * n\n",
    "    total_volume = 0\n",
    "    total_value = 1  # Initialize as 1 since we'll take a product later\n",
    "\n",
    "    for i in items:\n",
    "        fraction = min(1, (C - total_volume) / volumes[i])\n",
    "        selected_fractions[i] = fraction\n",
    "        total_volume += fraction * volumes[i]\n",
    "        total_value *= math.pow(values[i], fraction)\n",
    "\n",
    "    return selected_fractions, total_value\n",
    "\n",
    "# Example usage:\n",
    "values = [10, 20, 5]\n",
    "volumes = [2, 3, 1]\n",
    "C = 4\n",
    "selected_fractions, total_value = fractional_knapsack_multiplicative_value(values, volumes, C)\n",
    "print(\"Selected Fractions:\", selected_fractions)\n",
    "print(\"Total Value:\", total_value)"
   ]
  },
  {
   "cell_type": "code",
   "execution_count": 7,
   "metadata": {},
   "outputs": [
    {
     "name": "stdout",
     "output_type": "stream",
     "text": [
      "Maximum Value: 25\n",
      "Selected Items: [0, 1]\n"
     ]
    }
   ],
   "source": [
    "def knapsack(values, weights, capacity):\n",
    "    n = len(values)\n",
    "    dp = [[0 for _ in range(capacity + 1)] for _ in range(n + 1)]\n",
    "\n",
    "    for i in range(1, n + 1):\n",
    "        for w in range(1, capacity + 1):\n",
    "            if weights[i - 1] <= w:\n",
    "                dp[i][w] = max(dp[i - 1][w], values[i - 1] + dp[i - 1][w - weights[i - 1]])\n",
    "            else:\n",
    "                dp[i][w] = dp[i - 1][w]\n",
    "\n",
    "    selected_items = []\n",
    "    w = capacity\n",
    "    for i in range(n, 0, -1):\n",
    "        if dp[i][w] != dp[i - 1][w]:\n",
    "            selected_items.append(i - 1)\n",
    "            w -= weights[i - 1]\n",
    "\n",
    "    selected_items.reverse()\n",
    "    return dp[n][capacity], selected_items\n",
    "\n",
    "# Example usage:\n",
    "values = [10, 15, 7, 8]\n",
    "weights = [2, 3, 1, 4]\n",
    "capacity = 5\n",
    "max_value, selected_items = knapsack(values, weights, capacity)\n",
    "print(\"Maximum Value:\", max_value)\n",
    "print(\"Selected Items:\", selected_items)"
   ]
  },
  {
   "cell_type": "code",
   "execution_count": 1,
   "metadata": {},
   "outputs": [
    {
     "data": {
      "text/plain": [
       "'.xml'"
      ]
     },
     "execution_count": 1,
     "metadata": {},
     "output_type": "execute_result"
    }
   ],
   "source": [
    "x = \"what the fuck.xml\"\n",
    "x[-4:]"
   ]
  },
  {
   "cell_type": "code",
   "execution_count": null,
   "metadata": {},
   "outputs": [],
   "source": []
  }
 ],
 "metadata": {
  "kernelspec": {
   "display_name": "Python 3",
   "language": "python",
   "name": "python3"
  },
  "language_info": {
   "codemirror_mode": {
    "name": "ipython",
    "version": 3
   },
   "file_extension": ".py",
   "mimetype": "text/x-python",
   "name": "python",
   "nbconvert_exporter": "python",
   "pygments_lexer": "ipython3",
   "version": "3.11.3"
  },
  "orig_nbformat": 4
 },
 "nbformat": 4,
 "nbformat_minor": 2
}
