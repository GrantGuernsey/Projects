{
 "cells": [
  {
   "attachments": {},
   "cell_type": "markdown",
   "metadata": {},
   "source": [
    "# This code is a simle sentence generation. \n",
    "### It reads an input file and saves all the words and the words that come after them. It will predict the next word given an input word "
   ]
  },
  {
   "cell_type": "code",
   "execution_count": 15,
   "metadata": {},
   "outputs": [
    {
     "name": "stdout",
     "output_type": "stream",
     "text": [
      "hello barry benson imagines just get here i usually fatal for that was a watermelon i knew what youre flying outside the rest of holographic motionpicturecapture hollywood wizardry they put before us if you sure whatever you kick a special skills knocking someone out work going to spiders i hear for\n"
     ]
    }
   ],
   "source": [
    "import random\n",
    "import string\n",
    "\n",
    "def preprocess_text(file_path):\n",
    "    with open(file_path, 'r') as file:\n",
    "        text = file.read().lower()\n",
    "        text = text.translate(str.maketrans('', '', string.punctuation))\n",
    "        words = text.split()\n",
    "    return words\n",
    "\n",
    "def create_sequence_prediction_model(words):\n",
    "    model = {}\n",
    "    for i in range(len(words) - 1):\n",
    "        current_word = words[i]\n",
    "        next_word = words[i + 1]\n",
    "        if current_word in model:\n",
    "            model[current_word].append(next_word)\n",
    "        else:\n",
    "            model[current_word] = [next_word]\n",
    "    return model\n",
    "\n",
    "def generate_prediction(model, input_word):\n",
    "    if input_word in model:\n",
    "        next_words = model[input_word]\n",
    "        prediction = random.choice(next_words)\n",
    "    else:\n",
    "        prediction = random.choice(list(model.keys()))  # Random word as fallback\n",
    "    return prediction\n",
    "\n",
    "# Example usage\n",
    "file_path = 'here.txt'\n",
    "words = preprocess_text(file_path)\n",
    "model = create_sequence_prediction_model(words)\n",
    "\n",
    "curr_word = 'hello'\n",
    "words = [curr_word]\n",
    "for x in range(50):\n",
    "    curr_word = generate_prediction(model, curr_word)\n",
    "    words.append(curr_word)\n",
    "\n",
    "print(' '.join(words))"
   ]
  }
 ],
 "metadata": {
  "kernelspec": {
   "display_name": "Python 3",
   "language": "python",
   "name": "python3"
  },
  "language_info": {
   "codemirror_mode": {
    "name": "ipython",
    "version": 3
   },
   "file_extension": ".py",
   "mimetype": "text/x-python",
   "name": "python",
   "nbconvert_exporter": "python",
   "pygments_lexer": "ipython3",
   "version": "3.11.3"
  },
  "orig_nbformat": 4
 },
 "nbformat": 4,
 "nbformat_minor": 2
}
