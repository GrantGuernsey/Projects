{
 "cells": [
  {
   "cell_type": "code",
   "execution_count": 15,
   "metadata": {},
   "outputs": [],
   "source": [
    "import noms\n",
    "import json\n",
    "key = open(\"myapikey.txt\", \"r\").read()\n",
    "\n",
    "client = noms.Client(key)\n",
    "search_results = client.search_query(\"Cooked White Rice\")\n",
    "result_dict = search_results.json\n"
   ]
  },
  {
   "cell_type": "code",
   "execution_count": 16,
   "metadata": {},
   "outputs": [
    {
     "name": "stdout",
     "output_type": "stream",
     "text": [
      "2343906\n",
      "2343888\n",
      "2343892\n",
      "2343887\n",
      "2343890\n",
      "2343889\n",
      "169711\n",
      "2343912\n",
      "2343910\n",
      "2343913\n"
     ]
    }
   ],
   "source": [
    "for x in range(10):\n",
    "    print(result_dict['items'][x][\"fdcId\"])\n"
   ]
  },
  {
   "cell_type": "code",
   "execution_count": 17,
   "metadata": {},
   "outputs": [],
   "source": [
    "def iterativeSearch(result_dict, num):\n",
    "    try:\n",
    "        return num, client.get_foods({result_dict['items'][num][\"fdcId\"] : 100})\n",
    "    except:\n",
    "        return iterativeSearch(result_dict, num + 1)"
   ]
  },
  {
   "cell_type": "code",
   "execution_count": 18,
   "metadata": {},
   "outputs": [],
   "source": [
    "food = iterativeSearch(result_dict, 0)"
   ]
  },
  {
   "cell_type": "code",
   "execution_count": 19,
   "metadata": {},
   "outputs": [
    {
     "data": {
      "text/plain": [
       "'Rice, white, glutinous, unenriched, cooked'"
      ]
     },
     "execution_count": 19,
     "metadata": {},
     "output_type": "execute_result"
    }
   ],
   "source": [
    "result_dict['items'][6][\"description\"]"
   ]
  },
  {
   "cell_type": "code",
   "execution_count": 20,
   "metadata": {},
   "outputs": [],
   "source": [
    "m = noms.Meal(food[1])\n",
    "r = noms.report(m)"
   ]
  },
  {
   "cell_type": "code",
   "execution_count": 21,
   "metadata": {},
   "outputs": [],
   "source": [
    "protein = r[0][\"value\"] /4\n",
    "fat = r[1][\"value\"] /4\n",
    "carbs = r[2][\"value\"] /4\n",
    "calories = r[3][\"value\"]/4"
   ]
  },
  {
   "cell_type": "code",
   "execution_count": 22,
   "metadata": {},
   "outputs": [
    {
     "name": "stdout",
     "output_type": "stream",
     "text": [
      "0.505\n",
      "0.0475\n",
      "5.2725\n",
      "24.25\n"
     ]
    }
   ],
   "source": [
    "print(protein)\n",
    "print(fat)\n",
    "print(carbs)\n",
    "print(calories)"
   ]
  },
  {
   "cell_type": "code",
   "execution_count": null,
   "metadata": {},
   "outputs": [],
   "source": []
  }
 ],
 "metadata": {
  "kernelspec": {
   "display_name": "Python 3",
   "language": "python",
   "name": "python3"
  },
  "language_info": {
   "codemirror_mode": {
    "name": "ipython",
    "version": 3
   },
   "file_extension": ".py",
   "mimetype": "text/x-python",
   "name": "python",
   "nbconvert_exporter": "python",
   "pygments_lexer": "ipython3",
   "version": "3.11.3"
  },
  "orig_nbformat": 4
 },
 "nbformat": 4,
 "nbformat_minor": 2
}
